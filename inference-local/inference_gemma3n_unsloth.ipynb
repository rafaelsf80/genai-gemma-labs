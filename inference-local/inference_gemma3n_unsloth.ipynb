{
 "cells": [
  {
   "cell_type": "markdown",
   "id": "6f9c159f",
   "metadata": {},
   "source": [
    "# Inferencia Gemma 3n-E4B Multimodal Unsloth"
   ]
  },
  {
   "cell_type": "markdown",
   "id": "5adda3a2",
   "metadata": {},
   "source": [
    "## Setup"
   ]
  },
  {
   "cell_type": "code",
   "execution_count": null,
   "id": "fc7e8b54",
   "metadata": {},
   "outputs": [],
   "source": [
    "%%capture\n",
    "import os, re\n",
    "if \"COLAB_\" not in \"\".join(os.environ.keys()):\n",
    "    !pip install unsloth\n",
    "else:\n",
    "    # Do this only in Colab notebooks! Otherwise use pip install unsloth\n",
    "    import torch; v = re.match(r\"[0-9\\.]{3,}\", str(torch.__version__)).group(0)\n",
    "    xformers = \"xformers==\" + (\"0.0.32.post2\" if v == \"2.8.0\" else \"0.0.29.post3\")\n",
    "    !pip install --no-deps bitsandbytes accelerate {xformers} peft trl triton cut_cross_entropy unsloth_zoo\n",
    "    !pip install sentencepiece protobuf \"datasets>=3.4.1,<4.0.0\" \"huggingface_hub>=0.34.0\" hf_transfer\n",
    "    !pip install --no-deps unsloth\n",
    "!pip install transformers==4.55.4\n",
    "!pip install --no-deps trl==0.22.2\n",
    "import torch; torch._dynamo.config.recompile_limit = 64;"
   ]
  },
  {
   "cell_type": "markdown",
   "id": "b0a869cb",
   "metadata": {
    "vscode": {
     "languageId": "plaintext"
    }
   },
   "source": [
    "## Carga modelo cuantificado"
   ]
  },
  {
   "cell_type": "code",
   "execution_count": null,
   "id": "8db0fa03",
   "metadata": {},
   "outputs": [],
   "source": [
    "from unsloth import FastModel\n",
    "import torch\n",
    "\n",
    "from google.colab import userdata\n",
    "hf_token = userdata.get('HF_TOKEN')\n",
    "\n",
    "model, tokenizer = FastModel.from_pretrained(\n",
    "    model_name = \"unsloth/gemma-3n-E4B-it\",\n",
    "    dtype = None, # None for auto detection\n",
    "    max_seq_length = 1024, # Choose any for long context!\n",
    "    load_in_4bit = True,  # 4 bit quantization to reduce memory\n",
    "    full_finetuning = False, # [NEW!] We have full finetuning now!\n",
    "    token = hf_token\n",
    ")"
   ]
  },
  {
   "cell_type": "markdown",
   "id": "e35e9b4e",
   "metadata": {
    "vscode": {
     "languageId": "plaintext"
    }
   },
   "source": [
    "## Inferencia. Imagen\n",
    "\n",
    "Los parámetros recomendados de Gemma 3n son `temperature = 1.0, top_p = 0.95, top_k = 64`"
   ]
  },
  {
   "cell_type": "code",
   "execution_count": null,
   "id": "25aaf332",
   "metadata": {},
   "outputs": [],
   "source": [
    "from transformers import TextStreamer\n",
    "# Helper function for inference\n",
    "def do_gemma_3n_inference(messages, max_new_tokens = 128):\n",
    "    _ = model.generate(\n",
    "        **tokenizer.apply_chat_template(\n",
    "            messages,\n",
    "            add_generation_prompt = True, # Must add for generation\n",
    "            tokenize = True,\n",
    "            return_dict = True,\n",
    "            return_tensors = \"pt\",\n",
    "        ).to(\"cuda\"),\n",
    "        max_new_tokens = max_new_tokens,\n",
    "        temperature = 1.0, top_p = 0.95, top_k = 64,\n",
    "        streamer = TextStreamer(tokenizer, skip_prompt = True),\n",
    "    )\n",
    "\n",
    "sloth_link = \"https://files.worldwildlife.org/wwfcmsprod/images/Sloth_Sitting_iStock_3_12_2014/story_full_width/8l7pbjmj29_iStock_000011145477Large_mini__1_.jpg\"\n",
    "\n",
    "messages = [{\n",
    "    \"role\" : \"user\",\n",
    "    \"content\": [\n",
    "        { \"type\": \"image\", \"image\" : sloth_link },\n",
    "        { \"type\": \"text\",  \"text\" : \"Which films does this animal feature in?\" }\n",
    "    ]\n",
    "}]\n",
    "# You might have to wait 1 minute for Unsloth's auto compiler\n",
    "do_gemma_3n_inference(messages, max_new_tokens = 256)"
   ]
  },
  {
   "cell_type": "markdown",
   "id": "40d3bf23",
   "metadata": {},
   "source": [
    "## Inferencia. Texto"
   ]
  },
  {
   "cell_type": "code",
   "execution_count": null,
   "id": "a6c36b8e",
   "metadata": {},
   "outputs": [],
   "source": [
    "messages = [{\n",
    "    \"role\": \"user\",\n",
    "    \"content\": [{ \"type\" : \"text\",\n",
    "                  \"text\" : \"Write a poem about sloths.\" }]\n",
    "}]\n",
    "do_gemma_3n_inference(messages)"
   ]
  },
  {
   "cell_type": "markdown",
   "id": "381e9175",
   "metadata": {},
   "source": [
    "## Inferencia. Audio"
   ]
  },
  {
   "cell_type": "code",
   "execution_count": null,
   "id": "13085f19",
   "metadata": {},
   "outputs": [],
   "source": [
    "from IPython.display import Audio, display\n",
    "Audio(\"https://www.nasa.gov/wp-content/uploads/2015/01/591240main_JFKmoonspeech.mp3\")"
   ]
  },
  {
   "cell_type": "code",
   "execution_count": null,
   "id": "3ece47a9",
   "metadata": {},
   "outputs": [],
   "source": [
    "!wget -qqq https://www.nasa.gov/wp-content/uploads/2015/01/591240main_JFKmoonspeech.mp3 -O audio.mp3"
   ]
  },
  {
   "cell_type": "code",
   "execution_count": null,
   "id": "c76cc047",
   "metadata": {},
   "outputs": [],
   "source": [
    "audio_file = \"audio.mp3\"\n",
    "\n",
    "messages = [{\n",
    "    \"role\" : \"user\",\n",
    "    \"content\": [\n",
    "        { \"type\": \"audio\", \"audio\" : audio_file },\n",
    "        { \"type\": \"text\",  \"text\" : \"What is this audio about?\" }\n",
    "    ]\n",
    "}]\n",
    "do_gemma_3n_inference(messages, max_new_tokens = 256)"
   ]
  },
  {
   "cell_type": "markdown",
   "id": "e11a8f4c",
   "metadata": {},
   "source": [
    "## Inferencia. Multimodal"
   ]
  },
  {
   "cell_type": "code",
   "execution_count": null,
   "id": "8fc0d3a1",
   "metadata": {},
   "outputs": [],
   "source": [
    "messages = [{\n",
    "    \"role\" : \"user\",\n",
    "    \"content\": [\n",
    "        { \"type\": \"audio\", \"audio\" : audio_file },\n",
    "        { \"type\": \"image\", \"image\" : sloth_link },\n",
    "        { \"type\": \"text\",  \"text\" : \"What is this audio and image about? \"\\\n",
    "                                    \"How are they related?\" }\n",
    "    ]\n",
    "}]\n",
    "do_gemma_3n_inference(messages, max_new_tokens = 256)"
   ]
  }
 ],
 "metadata": {
  "language_info": {
   "name": "python"
  }
 },
 "nbformat": 4,
 "nbformat_minor": 5
}
